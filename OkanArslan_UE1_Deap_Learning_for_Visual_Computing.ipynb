{
  "nbformat": 4,
  "nbformat_minor": 0,
  "metadata": {
    "colab": {
      "provenance": [],
      "collapsed_sections": [
        "eyY1zM7MJ0fJ",
        "NIVm9JsIFTqx",
        "o6ZxB4iKFu6V",
        "TY3OMlvkGL1T",
        "K6bwuF1dGawW",
        "cJE2Va1XGsw3",
        "78bDHhO2KXc9",
        "eHrgNGvdKkKM",
        "jlWoUYbeKyH5",
        "B9DNGUzFLsFL",
        "iNgLFoVURSVf"
      ],
      "authorship_tag": "ABX9TyPShsXPteCuwImI0Mbd5W9D",
      "include_colab_link": true
    },
    "kernelspec": {
      "name": "python3",
      "display_name": "Python 3"
    },
    "language_info": {
      "name": "python"
    }
  },
  "cells": [
    {
      "cell_type": "markdown",
      "metadata": {
        "id": "view-in-github",
        "colab_type": "text"
      },
      "source": [
        "<a href=\"https://colab.research.google.com/github/okanars/DL4VC/blob/main/OkanArslan_UE1_Deap_Learning_for_Visual_Computing.ipynb\" target=\"_parent\"><img src=\"https://colab.research.google.com/assets/colab-badge.svg\" alt=\"Open In Colab\"/></a>"
      ]
    },
    {
      "cell_type": "markdown",
      "source": [
        "\n",
        "\n",
        "\n",
        "\n",
        "> This notebook was filled by Okan Arslan for the first exercise of the Deep Learning for Visual Computing course.\n",
        "\n",
        "\n",
        "\n"
      ],
      "metadata": {
        "id": "_AwX4z8uTiwu"
      }
    },
    {
      "cell_type": "markdown",
      "source": [
        "# **Exercise 1.1**"
      ],
      "metadata": {
        "id": "eyY1zM7MJ0fJ"
      }
    },
    {
      "cell_type": "markdown",
      "source": [
        "\n",
        "## **Step 1: Installing Libraries**"
      ],
      "metadata": {
        "id": "NIVm9JsIFTqx"
      }
    },
    {
      "cell_type": "markdown",
      "source": [
        "Import PyTorch and the libraries to load the MNIST dataset."
      ],
      "metadata": {
        "id": "E38Uy0-yFOBm"
      }
    },
    {
      "cell_type": "code",
      "execution_count": null,
      "metadata": {
        "id": "xe9KVIfMEQzJ"
      },
      "outputs": [],
      "source": [
        "import torch\n",
        "import torch.nn as nn\n",
        "import torch.optim as optim\n",
        "from torchvision import datasets, transforms\n",
        "from torch.utils.data import DataLoader\n"
      ]
    },
    {
      "cell_type": "markdown",
      "source": [
        "## **Step 2: Loading the Data Set**"
      ],
      "metadata": {
        "id": "o6ZxB4iKFu6V"
      }
    },
    {
      "cell_type": "markdown",
      "source": [
        "Load the MNIST dataset and prepare the dataloaders.\n",
        "\n"
      ],
      "metadata": {
        "id": "JzQSQAJQFzSZ"
      }
    },
    {
      "cell_type": "code",
      "source": [
        "transform = transforms.Compose([\n",
        "    transforms.ToTensor(),\n",
        "    transforms.Normalize((0.5,), (0.5,))\n",
        "])\n",
        "\n",
        "train_dataset = datasets.MNIST(root='./data', train=True, download=True, transform=transform)\n",
        "test_dataset = datasets.MNIST(root='./data', train=False, download=True, transform=transform)\n",
        "\n",
        "train_loader = DataLoader(train_dataset, batch_size=64, shuffle=True)\n",
        "test_loader = DataLoader(test_dataset, batch_size=64, shuffle=False)\n"
      ],
      "metadata": {
        "id": "oePky3p4F4pv"
      },
      "execution_count": null,
      "outputs": []
    },
    {
      "cell_type": "markdown",
      "source": [
        "## **Step 3: Creating the Model**"
      ],
      "metadata": {
        "id": "TY3OMlvkGL1T"
      }
    },
    {
      "cell_type": "markdown",
      "source": [
        "Let's create a model with one convolution layer and one fully connected layer.\n",
        "\n"
      ],
      "metadata": {
        "id": "B2MqkKBtGVGC"
      }
    },
    {
      "cell_type": "code",
      "source": [
        "class SimpleCNN(nn.Module):\n",
        "    def __init__(self):\n",
        "        super(SimpleCNN, self).__init__()\n",
        "        # Defining a convolution layer\n",
        "        self.conv1 = nn.Conv2d(1, 10, kernel_size=3)\n",
        "        # Defining a fully connected layer\n",
        "        self.fc1 = nn.Linear(10 * 26 * 26, 10)\n",
        "\n",
        "    def forward(self, x):\n",
        "        # Apply convolution layer and activate with ReLU activation function\n",
        "        x = self.conv1(x)\n",
        "        x = nn.functional.relu(x)\n",
        "        x = x.view(-1, 10 * 26 * 26)\n",
        "        # Apply fully connected layer and classify with softmax\n",
        "        x = self.fc1(x)\n",
        "        return nn.functional.log_softmax(x, dim=1)\n"
      ],
      "metadata": {
        "id": "0ccBI0UdGYPz"
      },
      "execution_count": null,
      "outputs": []
    },
    {
      "cell_type": "markdown",
      "source": [
        "## **Steps 4 and 5: Writing Training and Test Functions**"
      ],
      "metadata": {
        "id": "K6bwuF1dGawW"
      }
    },
    {
      "cell_type": "markdown",
      "source": [
        "Functions to train and test the model.\n",
        "\n",
        "\n"
      ],
      "metadata": {
        "id": "X8eDpMZXGfvM"
      }
    },
    {
      "cell_type": "code",
      "source": [
        "def train(model, device, train_loader, optimizer, epoch):\n",
        "    model.train()\n",
        "    for batch_idx, (data, target) in enumerate(train_loader):\n",
        "        data, target = data.to(device), target.to(device)\n",
        "        optimizer.zero_grad()\n",
        "        output = model(data)\n",
        "        loss = nn.functional.nll_loss(output, target)\n",
        "        loss.backward()# Back propagation\n",
        "        optimizer.step()\n",
        "        if batch_idx % 100 == 0:\n",
        "            print(f'Train Epoch: {epoch} [{batch_idx * len(data)}/{len(train_loader.dataset)} ({100. * batch_idx / len(train_loader):.0f}%)]\\tLoss: {loss.item():.6f}')\n",
        "\n",
        "def test(model, device, test_loader):\n",
        "    model.eval()\n",
        "    test_loss = 0\n",
        "    correct = 0\n",
        "    with torch.no_grad():\n",
        "        for data, target in test_loader:\n",
        "            data, target = data.to(device), target.to(device)\n",
        "            output = model(data)\n",
        "            test_loss += nn.functional.nll_loss(output, target, reduction='sum').item()\n",
        "            pred = output.argmax(dim=1, keepdim=True)\n",
        "            correct += pred.eq(target.view_as(pred)).sum().item()\n",
        "    test_loss /= len(test_loader.dataset)\n",
        "    print(f'\\nTest set: Average loss: {test_loss:.4f}, Accuracy: {correct}/{len(test_loader.dataset)} ({100. * correct / len(test_loader.dataset):.0f}%)')\n"
      ],
      "metadata": {
        "id": "QaPJ_aWbGmYh"
      },
      "execution_count": null,
      "outputs": []
    },
    {
      "cell_type": "markdown",
      "source": [
        "## **Step 6: Training and Testing the Model**"
      ],
      "metadata": {
        "id": "cJE2Va1XGsw3"
      }
    },
    {
      "cell_type": "markdown",
      "source": [
        "Let's train and test the model.\n",
        "\n"
      ],
      "metadata": {
        "id": "R3gA5n5wGwT4"
      }
    },
    {
      "cell_type": "code",
      "source": [
        "device = torch.device(\"cuda\" if torch.cuda.is_available() else \"cpu\")\n",
        "model = SimpleCNN().to(device)\n",
        "optimizer = optim.SGD(model.parameters(), lr=0.01, momentum=0.5)\n",
        "\n",
        "for epoch in range(1, 11):  # 10 epochs\n",
        "    train(model, device, train_loader, optimizer, epoch)\n",
        "    test(model, device, test_loader)\n"
      ],
      "metadata": {
        "colab": {
          "base_uri": "https://localhost:8080/"
        },
        "id": "0mb3JMJVG1hs",
        "outputId": "15a0e111-ec36-4385-86a0-b3a645249865"
      },
      "execution_count": null,
      "outputs": [
        {
          "output_type": "stream",
          "name": "stdout",
          "text": [
            "Train Epoch: 1 [0/60000 (0%)]\tLoss: 2.273013\n",
            "Train Epoch: 1 [6400/60000 (11%)]\tLoss: 0.430935\n",
            "Train Epoch: 1 [12800/60000 (21%)]\tLoss: 0.459567\n",
            "Train Epoch: 1 [19200/60000 (32%)]\tLoss: 0.267664\n",
            "Train Epoch: 1 [25600/60000 (43%)]\tLoss: 0.266026\n",
            "Train Epoch: 1 [32000/60000 (53%)]\tLoss: 0.311720\n",
            "Train Epoch: 1 [38400/60000 (64%)]\tLoss: 0.289968\n",
            "Train Epoch: 1 [44800/60000 (75%)]\tLoss: 0.494738\n",
            "Train Epoch: 1 [51200/60000 (85%)]\tLoss: 0.367897\n",
            "Train Epoch: 1 [57600/60000 (96%)]\tLoss: 0.276984\n",
            "\n",
            "Test set: Average loss: 0.2107, Accuracy: 9401/10000 (94%)\n",
            "Train Epoch: 2 [0/60000 (0%)]\tLoss: 0.180469\n",
            "Train Epoch: 2 [6400/60000 (11%)]\tLoss: 0.213964\n",
            "Train Epoch: 2 [12800/60000 (21%)]\tLoss: 0.263965\n",
            "Train Epoch: 2 [19200/60000 (32%)]\tLoss: 0.467496\n",
            "Train Epoch: 2 [25600/60000 (43%)]\tLoss: 0.172917\n",
            "Train Epoch: 2 [32000/60000 (53%)]\tLoss: 0.132961\n",
            "Train Epoch: 2 [38400/60000 (64%)]\tLoss: 0.192673\n",
            "Train Epoch: 2 [44800/60000 (75%)]\tLoss: 0.114031\n",
            "Train Epoch: 2 [51200/60000 (85%)]\tLoss: 0.159507\n",
            "Train Epoch: 2 [57600/60000 (96%)]\tLoss: 0.478574\n",
            "\n",
            "Test set: Average loss: 0.1551, Accuracy: 9570/10000 (96%)\n",
            "Train Epoch: 3 [0/60000 (0%)]\tLoss: 0.163955\n",
            "Train Epoch: 3 [6400/60000 (11%)]\tLoss: 0.069110\n",
            "Train Epoch: 3 [12800/60000 (21%)]\tLoss: 0.302187\n",
            "Train Epoch: 3 [19200/60000 (32%)]\tLoss: 0.084300\n",
            "Train Epoch: 3 [25600/60000 (43%)]\tLoss: 0.262733\n",
            "Train Epoch: 3 [32000/60000 (53%)]\tLoss: 0.048708\n",
            "Train Epoch: 3 [38400/60000 (64%)]\tLoss: 0.242144\n",
            "Train Epoch: 3 [44800/60000 (75%)]\tLoss: 0.151861\n",
            "Train Epoch: 3 [51200/60000 (85%)]\tLoss: 0.242276\n",
            "Train Epoch: 3 [57600/60000 (96%)]\tLoss: 0.196983\n",
            "\n",
            "Test set: Average loss: 0.1204, Accuracy: 9654/10000 (97%)\n",
            "Train Epoch: 4 [0/60000 (0%)]\tLoss: 0.050058\n",
            "Train Epoch: 4 [6400/60000 (11%)]\tLoss: 0.050308\n",
            "Train Epoch: 4 [12800/60000 (21%)]\tLoss: 0.116343\n",
            "Train Epoch: 4 [19200/60000 (32%)]\tLoss: 0.108386\n",
            "Train Epoch: 4 [25600/60000 (43%)]\tLoss: 0.032147\n",
            "Train Epoch: 4 [32000/60000 (53%)]\tLoss: 0.059546\n",
            "Train Epoch: 4 [38400/60000 (64%)]\tLoss: 0.060410\n",
            "Train Epoch: 4 [44800/60000 (75%)]\tLoss: 0.128469\n",
            "Train Epoch: 4 [51200/60000 (85%)]\tLoss: 0.046055\n",
            "Train Epoch: 4 [57600/60000 (96%)]\tLoss: 0.126658\n",
            "\n",
            "Test set: Average loss: 0.0985, Accuracy: 9712/10000 (97%)\n",
            "Train Epoch: 5 [0/60000 (0%)]\tLoss: 0.167838\n",
            "Train Epoch: 5 [6400/60000 (11%)]\tLoss: 0.036679\n",
            "Train Epoch: 5 [12800/60000 (21%)]\tLoss: 0.103970\n",
            "Train Epoch: 5 [19200/60000 (32%)]\tLoss: 0.054652\n",
            "Train Epoch: 5 [25600/60000 (43%)]\tLoss: 0.063226\n",
            "Train Epoch: 5 [32000/60000 (53%)]\tLoss: 0.364226\n",
            "Train Epoch: 5 [38400/60000 (64%)]\tLoss: 0.072239\n",
            "Train Epoch: 5 [44800/60000 (75%)]\tLoss: 0.092383\n",
            "Train Epoch: 5 [51200/60000 (85%)]\tLoss: 0.030200\n",
            "Train Epoch: 5 [57600/60000 (96%)]\tLoss: 0.043097\n",
            "\n",
            "Test set: Average loss: 0.0924, Accuracy: 9730/10000 (97%)\n",
            "Train Epoch: 6 [0/60000 (0%)]\tLoss: 0.047829\n",
            "Train Epoch: 6 [6400/60000 (11%)]\tLoss: 0.058880\n",
            "Train Epoch: 6 [12800/60000 (21%)]\tLoss: 0.016856\n",
            "Train Epoch: 6 [19200/60000 (32%)]\tLoss: 0.231788\n",
            "Train Epoch: 6 [25600/60000 (43%)]\tLoss: 0.104101\n",
            "Train Epoch: 6 [32000/60000 (53%)]\tLoss: 0.134374\n",
            "Train Epoch: 6 [38400/60000 (64%)]\tLoss: 0.049410\n",
            "Train Epoch: 6 [44800/60000 (75%)]\tLoss: 0.062773\n",
            "Train Epoch: 6 [51200/60000 (85%)]\tLoss: 0.078515\n",
            "Train Epoch: 6 [57600/60000 (96%)]\tLoss: 0.100149\n",
            "\n",
            "Test set: Average loss: 0.0798, Accuracy: 9768/10000 (98%)\n",
            "Train Epoch: 7 [0/60000 (0%)]\tLoss: 0.053798\n",
            "Train Epoch: 7 [6400/60000 (11%)]\tLoss: 0.077464\n",
            "Train Epoch: 7 [12800/60000 (21%)]\tLoss: 0.061808\n",
            "Train Epoch: 7 [19200/60000 (32%)]\tLoss: 0.045702\n",
            "Train Epoch: 7 [25600/60000 (43%)]\tLoss: 0.054210\n",
            "Train Epoch: 7 [32000/60000 (53%)]\tLoss: 0.047891\n",
            "Train Epoch: 7 [38400/60000 (64%)]\tLoss: 0.013593\n",
            "Train Epoch: 7 [44800/60000 (75%)]\tLoss: 0.156718\n",
            "Train Epoch: 7 [51200/60000 (85%)]\tLoss: 0.046933\n",
            "Train Epoch: 7 [57600/60000 (96%)]\tLoss: 0.111800\n",
            "\n",
            "Test set: Average loss: 0.0763, Accuracy: 9762/10000 (98%)\n",
            "Train Epoch: 8 [0/60000 (0%)]\tLoss: 0.034786\n",
            "Train Epoch: 8 [6400/60000 (11%)]\tLoss: 0.016087\n",
            "Train Epoch: 8 [12800/60000 (21%)]\tLoss: 0.059232\n",
            "Train Epoch: 8 [19200/60000 (32%)]\tLoss: 0.056811\n",
            "Train Epoch: 8 [25600/60000 (43%)]\tLoss: 0.014076\n",
            "Train Epoch: 8 [32000/60000 (53%)]\tLoss: 0.024888\n",
            "Train Epoch: 8 [38400/60000 (64%)]\tLoss: 0.114060\n",
            "Train Epoch: 8 [44800/60000 (75%)]\tLoss: 0.144109\n",
            "Train Epoch: 8 [51200/60000 (85%)]\tLoss: 0.034880\n",
            "Train Epoch: 8 [57600/60000 (96%)]\tLoss: 0.085826\n",
            "\n",
            "Test set: Average loss: 0.0774, Accuracy: 9766/10000 (98%)\n",
            "Train Epoch: 9 [0/60000 (0%)]\tLoss: 0.095241\n",
            "Train Epoch: 9 [6400/60000 (11%)]\tLoss: 0.088674\n",
            "Train Epoch: 9 [12800/60000 (21%)]\tLoss: 0.029831\n",
            "Train Epoch: 9 [19200/60000 (32%)]\tLoss: 0.018831\n",
            "Train Epoch: 9 [25600/60000 (43%)]\tLoss: 0.061434\n",
            "Train Epoch: 9 [32000/60000 (53%)]\tLoss: 0.020656\n",
            "Train Epoch: 9 [38400/60000 (64%)]\tLoss: 0.057921\n",
            "Train Epoch: 9 [44800/60000 (75%)]\tLoss: 0.109014\n",
            "Train Epoch: 9 [51200/60000 (85%)]\tLoss: 0.028212\n",
            "Train Epoch: 9 [57600/60000 (96%)]\tLoss: 0.112608\n",
            "\n",
            "Test set: Average loss: 0.0706, Accuracy: 9773/10000 (98%)\n",
            "Train Epoch: 10 [0/60000 (0%)]\tLoss: 0.044752\n",
            "Train Epoch: 10 [6400/60000 (11%)]\tLoss: 0.038672\n",
            "Train Epoch: 10 [12800/60000 (21%)]\tLoss: 0.057315\n",
            "Train Epoch: 10 [19200/60000 (32%)]\tLoss: 0.037606\n",
            "Train Epoch: 10 [25600/60000 (43%)]\tLoss: 0.010512\n",
            "Train Epoch: 10 [32000/60000 (53%)]\tLoss: 0.139248\n",
            "Train Epoch: 10 [38400/60000 (64%)]\tLoss: 0.055779\n",
            "Train Epoch: 10 [44800/60000 (75%)]\tLoss: 0.096807\n",
            "Train Epoch: 10 [51200/60000 (85%)]\tLoss: 0.047163\n",
            "Train Epoch: 10 [57600/60000 (96%)]\tLoss: 0.022072\n",
            "\n",
            "Test set: Average loss: 0.0683, Accuracy: 9779/10000 (98%)\n"
          ]
        }
      ]
    },
    {
      "cell_type": "markdown",
      "source": [
        "# **Exercise 1.2**"
      ],
      "metadata": {
        "id": "csfGwuhZKTXj"
      }
    },
    {
      "cell_type": "markdown",
      "source": [
        "## **Step 1: Installing Libraries**"
      ],
      "metadata": {
        "id": "78bDHhO2KXc9"
      }
    },
    {
      "cell_type": "code",
      "source": [
        "import torch\n",
        "import torch.nn as nn\n",
        "import torch.optim as optim\n",
        "from torchvision import datasets, transforms\n",
        "from torch.utils.data import DataLoader"
      ],
      "metadata": {
        "id": "WKpzQriFKb6N"
      },
      "execution_count": null,
      "outputs": []
    },
    {
      "cell_type": "markdown",
      "source": [
        "## **Step 2: Loading the Data Set**"
      ],
      "metadata": {
        "id": "eHrgNGvdKkKM"
      }
    },
    {
      "cell_type": "code",
      "source": [
        "# Define data set and data loaders\n",
        "# Data are normalized between 0 and 1 to make them suitable for the model.\n",
        "\n",
        "transform = transforms.Compose([\n",
        "    transforms.ToTensor(),\n",
        "    transforms.Normalize((0.5,), (0.5,))\n",
        "])\n",
        "\n",
        "train_dataset = datasets.MNIST(root='./data', train=True, download=True, transform=transform)\n",
        "test_dataset = datasets.MNIST(root='./data', train=False, download=True, transform=transform)\n",
        "\n",
        "train_loader = DataLoader(train_dataset, batch_size=64, shuffle=True)\n",
        "test_loader = DataLoader(test_dataset, batch_size=64, shuffle=False)\n"
      ],
      "metadata": {
        "id": "AEXgoa4iKnur"
      },
      "execution_count": null,
      "outputs": []
    },
    {
      "cell_type": "markdown",
      "source": [
        "## **Step 3: Creating the Model**"
      ],
      "metadata": {
        "id": "jlWoUYbeKyH5"
      }
    },
    {
      "cell_type": "code",
      "source": [
        "# Define a simple CNN model. This model consists of a convolution layer and a fully connected layer.\n",
        "# The dropout layer makes the model more robust to overfitting.\n",
        "class SimpleCNN(nn.Module):\n",
        "    def __init__(self):\n",
        "        super(SimpleCNN, self).__init__()\n",
        "        self.conv1 = nn.Conv2d(1, 10, kernel_size=3)\n",
        "        self.fc1 = nn.Linear(10 * 26 * 26, 10)\n",
        "        self.dropout = nn.Dropout(0.5)\n",
        "\n",
        "    def forward(self, x):\n",
        "        x = self.conv1(x)\n",
        "        x = nn.functional.relu(x) # ReLU is used as activation function.\n",
        "        x = x.view(-1, 10 * 26 * 26)\n",
        "        x = self.dropout(x) #Dropout is implemented\n",
        "        x = self.fc1(x)\n",
        "        return nn.functional.log_softmax(x, dim=1)\n"
      ],
      "metadata": {
        "id": "gpNga8IaK3Sm"
      },
      "execution_count": null,
      "outputs": []
    },
    {
      "cell_type": "markdown",
      "source": [
        "## **Steps 4 and 5: Writing Training and Test Functions**"
      ],
      "metadata": {
        "id": "B9DNGUzFLsFL"
      }
    },
    {
      "cell_type": "code",
      "source": [
        "def train(model, device, train_loader, optimizer, epoch):\n",
        "    model.train()\n",
        "    for batch_idx, (data, target) in enumerate(train_loader):\n",
        "        data, target = data.to(device), target.to(device)\n",
        "        optimizer.zero_grad()\n",
        "        output = model(data)\n",
        "        loss = nn.functional.nll_loss(output, target)\n",
        "        loss.backward()  # Gradients are calculated and back propagation is performed.\n",
        "        optimizer.step()\n",
        "        if batch_idx % 100 == 0:\n",
        "            print(f'Train Epoch: {epoch} [{batch_idx * len(data)}/{len(train_loader.dataset)} ({100. * batch_idx / len(train_loader):.0f}%)]\\tLoss: {loss.item():.6f}')\n",
        "\n",
        "def test(model, device, test_loader):\n",
        "    model.eval()\n",
        "    test_loss = 0\n",
        "    correct = 0\n",
        "    with torch.no_grad():\n",
        "        for data, target in test_loader:\n",
        "            data, target = data.to(device), target.to(device)\n",
        "            output = model(data)\n",
        "            test_loss += nn.functional.nll_loss(output, target, reduction='sum').item()\n",
        "            pred = output.argmax(dim=1, keepdim=True)\n",
        "            correct += pred.eq(target.view_as(pred)).sum().item()\n",
        "    test_loss /= len(test_loader.dataset)\n",
        "    print(f'\\nTest set: Average loss: {test_loss:.4f}, Accuracy: {correct}/{len(test_loader.dataset)} ({100. * correct / len(test_loader.dataset):.0f}%)')\n"
      ],
      "metadata": {
        "id": "ytWdj-FCLveY"
      },
      "execution_count": null,
      "outputs": []
    },
    {
      "cell_type": "markdown",
      "source": [
        "## **Step 6: Training and Testing the Model**"
      ],
      "metadata": {
        "id": "p3NGtGQ2MBHS"
      }
    },
    {
      "cell_type": "code",
      "source": [
        "# Train and test the model. Use GPU as the device if possible.\n",
        "device = torch.device(\"cuda\" if torch.cuda.is_available() else \"cpu\")\n",
        "model = SimpleCNN().to(device)\n",
        "optimizer = optim.Adam(model.parameters(), lr=0.001)  # Adam optimizer is used, faster and more effective than SGD.\n",
        "\n",
        "# The model is trained for 10 epochs. At each epoch the training and test results are printed.\n",
        "for epoch in range(1, 11):\n",
        "    train(model, device, train_loader, optimizer, epoch)\n",
        "    test(model, device, test_loader)\n"
      ],
      "metadata": {
        "colab": {
          "base_uri": "https://localhost:8080/"
        },
        "id": "UWGPeQSfMDJ4",
        "outputId": "3b849fad-19f8-45e8-a0bd-a3abef028c67"
      },
      "execution_count": null,
      "outputs": [
        {
          "output_type": "stream",
          "name": "stdout",
          "text": [
            "Train Epoch: 1 [0/60000 (0%)]\tLoss: 2.417727\n",
            "Train Epoch: 1 [6400/60000 (11%)]\tLoss: 0.340577\n",
            "Train Epoch: 1 [12800/60000 (21%)]\tLoss: 0.329995\n",
            "Train Epoch: 1 [19200/60000 (32%)]\tLoss: 0.204566\n",
            "Train Epoch: 1 [25600/60000 (43%)]\tLoss: 0.156372\n",
            "Train Epoch: 1 [32000/60000 (53%)]\tLoss: 0.126734\n",
            "Train Epoch: 1 [38400/60000 (64%)]\tLoss: 0.101785\n",
            "Train Epoch: 1 [44800/60000 (75%)]\tLoss: 0.063074\n",
            "Train Epoch: 1 [51200/60000 (85%)]\tLoss: 0.278465\n",
            "Train Epoch: 1 [57600/60000 (96%)]\tLoss: 0.090854\n",
            "\n",
            "Test set: Average loss: 0.1106, Accuracy: 9670/10000 (97%)\n",
            "Train Epoch: 2 [0/60000 (0%)]\tLoss: 0.177392\n",
            "Train Epoch: 2 [6400/60000 (11%)]\tLoss: 0.147597\n",
            "Train Epoch: 2 [12800/60000 (21%)]\tLoss: 0.069479\n",
            "Train Epoch: 2 [19200/60000 (32%)]\tLoss: 0.125922\n",
            "Train Epoch: 2 [25600/60000 (43%)]\tLoss: 0.121529\n",
            "Train Epoch: 2 [32000/60000 (53%)]\tLoss: 0.063164\n",
            "Train Epoch: 2 [38400/60000 (64%)]\tLoss: 0.205561\n",
            "Train Epoch: 2 [44800/60000 (75%)]\tLoss: 0.041435\n",
            "Train Epoch: 2 [51200/60000 (85%)]\tLoss: 0.079348\n",
            "Train Epoch: 2 [57600/60000 (96%)]\tLoss: 0.044763\n",
            "\n",
            "Test set: Average loss: 0.0821, Accuracy: 9756/10000 (98%)\n",
            "Train Epoch: 3 [0/60000 (0%)]\tLoss: 0.095925\n",
            "Train Epoch: 3 [6400/60000 (11%)]\tLoss: 0.100939\n",
            "Train Epoch: 3 [12800/60000 (21%)]\tLoss: 0.238054\n",
            "Train Epoch: 3 [19200/60000 (32%)]\tLoss: 0.043128\n",
            "Train Epoch: 3 [25600/60000 (43%)]\tLoss: 0.126624\n",
            "Train Epoch: 3 [32000/60000 (53%)]\tLoss: 0.125011\n",
            "Train Epoch: 3 [38400/60000 (64%)]\tLoss: 0.288235\n",
            "Train Epoch: 3 [44800/60000 (75%)]\tLoss: 0.121130\n",
            "Train Epoch: 3 [51200/60000 (85%)]\tLoss: 0.212230\n",
            "Train Epoch: 3 [57600/60000 (96%)]\tLoss: 0.115496\n",
            "\n",
            "Test set: Average loss: 0.0691, Accuracy: 9786/10000 (98%)\n",
            "Train Epoch: 4 [0/60000 (0%)]\tLoss: 0.090198\n",
            "Train Epoch: 4 [6400/60000 (11%)]\tLoss: 0.021549\n",
            "Train Epoch: 4 [12800/60000 (21%)]\tLoss: 0.077720\n",
            "Train Epoch: 4 [19200/60000 (32%)]\tLoss: 0.017378\n",
            "Train Epoch: 4 [25600/60000 (43%)]\tLoss: 0.147011\n",
            "Train Epoch: 4 [32000/60000 (53%)]\tLoss: 0.014494\n",
            "Train Epoch: 4 [38400/60000 (64%)]\tLoss: 0.102053\n",
            "Train Epoch: 4 [44800/60000 (75%)]\tLoss: 0.037320\n",
            "Train Epoch: 4 [51200/60000 (85%)]\tLoss: 0.035072\n",
            "Train Epoch: 4 [57600/60000 (96%)]\tLoss: 0.045551\n",
            "\n",
            "Test set: Average loss: 0.0655, Accuracy: 9783/10000 (98%)\n",
            "Train Epoch: 5 [0/60000 (0%)]\tLoss: 0.015945\n",
            "Train Epoch: 5 [6400/60000 (11%)]\tLoss: 0.033559\n",
            "Train Epoch: 5 [12800/60000 (21%)]\tLoss: 0.017436\n",
            "Train Epoch: 5 [19200/60000 (32%)]\tLoss: 0.066966\n",
            "Train Epoch: 5 [25600/60000 (43%)]\tLoss: 0.114516\n",
            "Train Epoch: 5 [32000/60000 (53%)]\tLoss: 0.039778\n",
            "Train Epoch: 5 [38400/60000 (64%)]\tLoss: 0.092577\n",
            "Train Epoch: 5 [44800/60000 (75%)]\tLoss: 0.104120\n",
            "Train Epoch: 5 [51200/60000 (85%)]\tLoss: 0.028231\n",
            "Train Epoch: 5 [57600/60000 (96%)]\tLoss: 0.071254\n",
            "\n",
            "Test set: Average loss: 0.0695, Accuracy: 9787/10000 (98%)\n",
            "Train Epoch: 6 [0/60000 (0%)]\tLoss: 0.090862\n",
            "Train Epoch: 6 [6400/60000 (11%)]\tLoss: 0.059772\n",
            "Train Epoch: 6 [12800/60000 (21%)]\tLoss: 0.015643\n",
            "Train Epoch: 6 [19200/60000 (32%)]\tLoss: 0.058873\n",
            "Train Epoch: 6 [25600/60000 (43%)]\tLoss: 0.076198\n",
            "Train Epoch: 6 [32000/60000 (53%)]\tLoss: 0.038135\n",
            "Train Epoch: 6 [38400/60000 (64%)]\tLoss: 0.132018\n",
            "Train Epoch: 6 [44800/60000 (75%)]\tLoss: 0.045222\n",
            "Train Epoch: 6 [51200/60000 (85%)]\tLoss: 0.145234\n",
            "Train Epoch: 6 [57600/60000 (96%)]\tLoss: 0.121978\n",
            "\n",
            "Test set: Average loss: 0.0632, Accuracy: 9781/10000 (98%)\n",
            "Train Epoch: 7 [0/60000 (0%)]\tLoss: 0.057561\n",
            "Train Epoch: 7 [6400/60000 (11%)]\tLoss: 0.030243\n",
            "Train Epoch: 7 [12800/60000 (21%)]\tLoss: 0.089031\n",
            "Train Epoch: 7 [19200/60000 (32%)]\tLoss: 0.032968\n",
            "Train Epoch: 7 [25600/60000 (43%)]\tLoss: 0.083367\n",
            "Train Epoch: 7 [32000/60000 (53%)]\tLoss: 0.040071\n",
            "Train Epoch: 7 [38400/60000 (64%)]\tLoss: 0.050104\n",
            "Train Epoch: 7 [44800/60000 (75%)]\tLoss: 0.086927\n",
            "Train Epoch: 7 [51200/60000 (85%)]\tLoss: 0.036012\n",
            "Train Epoch: 7 [57600/60000 (96%)]\tLoss: 0.065519\n",
            "\n",
            "Test set: Average loss: 0.0608, Accuracy: 9810/10000 (98%)\n",
            "Train Epoch: 8 [0/60000 (0%)]\tLoss: 0.010425\n",
            "Train Epoch: 8 [6400/60000 (11%)]\tLoss: 0.052821\n",
            "Train Epoch: 8 [12800/60000 (21%)]\tLoss: 0.017240\n",
            "Train Epoch: 8 [19200/60000 (32%)]\tLoss: 0.091726\n",
            "Train Epoch: 8 [25600/60000 (43%)]\tLoss: 0.108260\n",
            "Train Epoch: 8 [32000/60000 (53%)]\tLoss: 0.056414\n",
            "Train Epoch: 8 [38400/60000 (64%)]\tLoss: 0.049891\n",
            "Train Epoch: 8 [44800/60000 (75%)]\tLoss: 0.069281\n",
            "Train Epoch: 8 [51200/60000 (85%)]\tLoss: 0.135440\n",
            "Train Epoch: 8 [57600/60000 (96%)]\tLoss: 0.033997\n",
            "\n",
            "Test set: Average loss: 0.0620, Accuracy: 9807/10000 (98%)\n",
            "Train Epoch: 9 [0/60000 (0%)]\tLoss: 0.072612\n",
            "Train Epoch: 9 [6400/60000 (11%)]\tLoss: 0.041789\n",
            "Train Epoch: 9 [12800/60000 (21%)]\tLoss: 0.036727\n",
            "Train Epoch: 9 [19200/60000 (32%)]\tLoss: 0.012001\n",
            "Train Epoch: 9 [25600/60000 (43%)]\tLoss: 0.026682\n",
            "Train Epoch: 9 [32000/60000 (53%)]\tLoss: 0.184793\n",
            "Train Epoch: 9 [38400/60000 (64%)]\tLoss: 0.133312\n",
            "Train Epoch: 9 [44800/60000 (75%)]\tLoss: 0.089998\n",
            "Train Epoch: 9 [51200/60000 (85%)]\tLoss: 0.073482\n",
            "Train Epoch: 9 [57600/60000 (96%)]\tLoss: 0.077406\n",
            "\n",
            "Test set: Average loss: 0.0619, Accuracy: 9797/10000 (98%)\n",
            "Train Epoch: 10 [0/60000 (0%)]\tLoss: 0.039249\n",
            "Train Epoch: 10 [6400/60000 (11%)]\tLoss: 0.058826\n",
            "Train Epoch: 10 [12800/60000 (21%)]\tLoss: 0.027510\n",
            "Train Epoch: 10 [19200/60000 (32%)]\tLoss: 0.088498\n",
            "Train Epoch: 10 [25600/60000 (43%)]\tLoss: 0.048115\n",
            "Train Epoch: 10 [32000/60000 (53%)]\tLoss: 0.014208\n",
            "Train Epoch: 10 [38400/60000 (64%)]\tLoss: 0.112477\n",
            "Train Epoch: 10 [44800/60000 (75%)]\tLoss: 0.041302\n",
            "Train Epoch: 10 [51200/60000 (85%)]\tLoss: 0.090564\n",
            "Train Epoch: 10 [57600/60000 (96%)]\tLoss: 0.033989\n",
            "\n",
            "Test set: Average loss: 0.0610, Accuracy: 9804/10000 (98%)\n"
          ]
        }
      ]
    },
    {
      "cell_type": "markdown",
      "source": [
        "# **Comparison of Outputs**"
      ],
      "metadata": {
        "id": "j5OnZ38CQffV"
      }
    },
    {
      "cell_type": "markdown",
      "source": [
        "## ***Output Graphs***"
      ],
      "metadata": {
        "id": "rKrJ0FkwRC0X"
      }
    },
    {
      "cell_type": "code",
      "source": [
        "import matplotlib.pyplot as plt\n",
        "\n",
        "train_losses_1_1 = [2.273013, 0.430935, 0.459567, 0.267664, 0.266026, 0.311720, 0.289968, 0.494738, 0.367897, 0.276984]\n",
        "test_accuracies_1_1 = [94, 96, 97, 97, 97, 98, 98, 98, 98, 98]\n",
        "train_losses_1_2 = [2.417727, 0.340577, 0.329995, 0.204566, 0.156372, 0.126734, 0.101785, 0.063074, 0.278465, 0.090854,\n",
        "                    0.177392, 0.147597, 0.069479, 0.125922, 0.121529, 0.063164, 0.205561, 0.041435, 0.079348, 0.044763,\n",
        "                    0.095925, 0.100939, 0.238054, 0.043128, 0.126624, 0.125011, 0.288235, 0.121130, 0.212230, 0.115496]\n",
        "test_accuracies_1_2 = [97, 98, 98, 98, 98, 98, 98, 98, 98, 98]\n",
        "\n",
        "epochs_1_1 = range(1, 11)\n",
        "epochs_1_2 = range(1, 11)\n",
        "\n",
        "# Train Losses Chart\n",
        "plt.figure(figsize=(12, 6))\n",
        "plt.subplot(1, 2, 1)\n",
        "plt.plot(epochs_1_1, train_losses_1_1, label='Exercise 1.1')\n",
        "plt.plot(epochs_1_2, train_losses_1_2[:10], label='Exercise 1.2', linestyle='--')\n",
        "plt.title('Training Loss Comparison')\n",
        "plt.xlabel('Epochs')\n",
        "plt.ylabel('Loss')\n",
        "plt.legend()\n",
        "\n",
        "# Test Accuracies Graph\n",
        "plt.subplot(1, 2, 2)\n",
        "plt.plot(epochs_1_1, test_accuracies_1_1, label='Exercise 1.1')\n",
        "plt.plot(epochs_1_2, test_accuracies_1_2, label='Exercise 1.2', linestyle='--')\n",
        "plt.title('Test Accuracy Comparison')\n",
        "plt.xlabel('Epochs')\n",
        "plt.ylabel('Accuracy (%)')\n",
        "plt.legend()\n",
        "\n",
        "plt.tight_layout()\n",
        "plt.show()\n"
      ],
      "metadata": {
        "colab": {
          "base_uri": "https://localhost:8080/",
          "height": 607
        },
        "id": "Ji08gzaBQlLB",
        "outputId": "04ee75e0-ff82-4d0b-8a71-8cb6987e1dff"
      },
      "execution_count": null,
      "outputs": [
        {
          "output_type": "display_data",
          "data": {
            "text/plain": [
              "<Figure size 1200x600 with 2 Axes>"
            ],
            "image/png": "[encoded data removed]"
          },
          "metadata": {}
        }
      ]
    },
    {
      "cell_type": "markdown",
      "source": [
        "## **Key Observations**"
      ],
      "metadata": {
        "id": "Wh9u8_baRNfA"
      }
    },
    {
      "cell_type": "markdown",
      "source": [
        "### Training Loss Comparison:\n",
        "\n"
      ],
      "metadata": {
        "id": "iNgLFoVURSVf"
      }
    },
    {
      "cell_type": "markdown",
      "source": [
        "\n",
        "\n",
        "*  **Exercise 1.1** starts with a higher initial loss but shows a rapid decrease, indicating that the model is effectively learning from the training data. The training loss quickly stabilizes, suggesting that the model is reaching a good fit with the training data.\n",
        "*  **Exercise 1.2**, with its slight variations in training conditions, starts slightly worse in terms of initial loss but improves steadily. This pattern may be indicative of a more robust training process that could potentially handle overfitting better due to either increased regularization or a more sophisticated optimization strategy.\n",
        "\n"
      ],
      "metadata": {
        "id": "yBHZF5OIRZO7"
      }
    },
    {
      "cell_type": "markdown",
      "source": [
        "### Test Accuracy Comparison:\n",
        "\n"
      ],
      "metadata": {
        "id": "ltK9wY_XRl5G"
      }
    },
    {
      "cell_type": "markdown",
      "source": [
        "\n",
        "\n",
        "*   Both exercises demonstrate high test accuracies, with **Exercise 1.2** consistently matching or slightly exceeding the performance of **Exercise 1.1**. This suggests that the adjustments made in Exercise 1.2 (potentially including changes like different optimizers, learning rates, or more training epochs) are beneficial for maintaining or slightly improving model generalization.\n",
        "*   The test accuracies for both exercises remain consistently high across epochs, hovering around 97-98%, which shows that both models perform well on unseen data. The slight edge for Exercise 1.2 in later epochs could be a result of a better-tuned model due to extended training or improved learning dynamics.\n",
        "\n",
        "\n"
      ],
      "metadata": {
        "id": "17t6CoKNRok-"
      }
    },
    {
      "cell_type": "markdown",
      "source": [
        "## **Conclusion**"
      ],
      "metadata": {
        "id": "kRsuKgsnR6fR"
      }
    },
    {
      "cell_type": "markdown",
      "source": [
        "*   The comparative analysis reveals that both Exercise 1.1 and Exercise 1.2 achieve commendable performance on the test set, with Exercise 1.2 showing a slight advantage in both training loss reduction and test accuracy stabilization. This could imply that the tweaks applied in Exercise 1.2 help in either combating overfitting more effectively or optimizing the learning process more efficiently.\n",
        "\n",
        "*  Such insights are valuable for understanding the impact of different training configurations and can guide future experiments in model optimization and training strategy enhancement. The consistent performance across both exercises also highlights the robustness of the underlying model architecture when applied to tasks like MNIST digit classification."
      ],
      "metadata": {
        "id": "VZW08yqMR_Yy"
      }
    }
  ]
}